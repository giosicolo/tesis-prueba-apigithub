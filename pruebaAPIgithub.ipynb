{
 "cells": [
  {
   "cell_type": "code",
   "execution_count": 14,
   "id": "21dfb4df-f4b9-49ad-b99c-c3f89351c031",
   "metadata": {},
   "outputs": [],
   "source": [
    "import requests"
   ]
  },
  {
   "cell_type": "code",
   "execution_count": 10,
   "id": "b7b13750-55ff-4533-b95b-558c4d2663a9",
   "metadata": {},
   "outputs": [],
   "source": [
    "# Metodo para obtener los metadatos generales de un repositorio de github con su API :\n",
    "def getMetadata(owner, repo):\n",
    "    url = f\"https://api.github.com/repos/{owner}/{repo}\"\n",
    "    response = requests.get(url)\n",
    "\n",
    "    if response.status_code == 200:\n",
    "        data = response.json()\n",
    "        metadata = {\n",
    "            \"full_name\": data.get(\"full_name\"),\n",
    "            \"description\": data.get(\"description\"),\n",
    "            \"clone_url\": data.get(\"clone_url\"),\n",
    "            \"stargazers_count\": data.get(\"stargazers_count\"),\n",
    "            \"forks_count\": data.get(\"forks_count\"),\n",
    "            \"open_issues_count\": data.get(\"open_issues_count\"),\n",
    "            \"default_branch\": data.get(\"default_branch\"),\n",
    "            \"created_at\": data.get(\"created_at\"),\n",
    "            \"updated_at\": data.get(\"updated_at\"),\n",
    "            \"pushed_at\": data.get(\"pushed_at\"),\n",
    "            \"language\": data.get(\"language\"),\n",
    "            \"license\": data.get(\"license\")[\"name\"] if data.get(\"license\") else None\n",
    "        }\n",
    "        return metadata\n",
    "    else:\n",
    "        print(f\"Error: {response.status_code}\")\n",
    "        return None"
   ]
  },
  {
   "cell_type": "code",
   "execution_count": 13,
   "id": "51619ae0-1436-4ddf-ad81-e19986931017",
   "metadata": {},
   "outputs": [
    {
     "name": "stdin",
     "output_type": "stream",
     "text": [
      "Ingrese el propietario del repositorio (owner):  giosicolo\n",
      "Ingrese el nombre del repositorio (repo):  SI2024\n"
     ]
    },
    {
     "name": "stdout",
     "output_type": "stream",
     "text": [
      "Los metadatos del repositorio son: \n",
      "\n",
      "full_name: giosicolo/SI2024\n",
      "description: None\n",
      "clone_url: https://github.com/giosicolo/SI2024.git\n",
      "stargazers_count: 0\n",
      "forks_count: 0\n",
      "open_issues_count: 0\n",
      "default_branch: main\n",
      "created_at: 2024-04-16T12:07:49Z\n",
      "updated_at: 2024-04-16T13:20:01Z\n",
      "pushed_at: 2024-04-16T13:19:58Z\n",
      "language: Java\n",
      "license: None\n"
     ]
    }
   ],
   "source": [
    "# Ejemplo de uso:\n",
    "if __name__ == \"__main__\":\n",
    "    #x Variables\n",
    "    #owner = \"giosicolo\"\n",
    "    #repo = \"api-backend-ecokit\"\n",
    "\n",
    "    #Por parametro\n",
    "    owner = input(\"Ingrese el propietario del repositorio (owner): \")\n",
    "    repo = input(\"Ingrese el nombre del repositorio (repo): \")\n",
    "    \n",
    "    meta = getMetadata(owner, repo)\n",
    "    if meta:\n",
    "        print(\"\\n Los metadatos del repositorio son: \\n\")\n",
    "        for key, value in meta.items():\n",
    "           \n",
    "            print(f\"{key}: {value}\")"
   ]
  },
  {
   "cell_type": "code",
   "execution_count": 15,
   "id": "47e6c713-b89c-4da1-adac-ba4919300f29",
   "metadata": {},
   "outputs": [],
   "source": [
    "def getAllIssues(owner, repo, state):\n",
    "   \n",
    "    all_issues = []\n",
    "    page = 1\n",
    "    while True:\n",
    "        url = f\"https://api.github.com/repos/{owner}/{repo}/issues\"\n",
    "    \n",
    "        params = {\n",
    "            \"state\": state,\n",
    "            \"per_page\": 100,\n",
    "            \"page\": page\n",
    "        }\n",
    "        \n",
    "        response = requests.get(url, params=params)\n",
    "\n",
    "        if response.status_code != 200:\n",
    "            print(f\"Error: {response.status_code}\")\n",
    "            break\n",
    "\n",
    "        issues = response.json()\n",
    "        # si no quedan issues por tomar\n",
    "        if not issues:\n",
    "            break\n",
    "\n",
    "        all_issues.extend(issues)\n",
    "        #Cambio de pagina - Git Hub te deja tomar hasta 100 por pagina\n",
    "        page += 1\n",
    "\n",
    "    return all_issues"
   ]
  },
  {
   "cell_type": "code",
   "execution_count": 19,
   "id": "73c02a1f-5d40-42bc-9c28-747b1723c912",
   "metadata": {},
   "outputs": [],
   "source": [
    "def printIssue(issue):\n",
    "    print(f\"{'='*80}\")\n",
    "    print(f\"Issue #{issue.get('number')}: {issue.get('title')}\")\n",
    "    print(f\"Estado: {issue.get('state')}\")\n",
    "    print(f\"URL: {issue.get('html_url')}\")\n",
    "    print(f\"Usuario: {issue.get('user', {}).get('login')}\")\n",
    "    print(f\"Etiquetas: {[label['name'] for label in issue.get('labels', [])]}\")\n",
    "    print(f\"Asignado a: {issue.get('assignee', {}).get('login') if issue.get('assignee') else 'Nadie'}\")\n",
    "    print(f\"Participantes: {issue.get('comments')} comentario(s)\")\n",
    "    print(f\"Fecha de creación: {issue.get('created_at')}\")\n",
    "    print(f\"Última actualización: {issue.get('updated_at')}\")\n",
    "    print(f\"Cerrado en: {issue.get('closed_at')}\")\n",
    "    print(f\"Milestone: {issue.get('milestone', {}).get('title') if issue.get('milestone') else 'Ninguno'}\")\n",
    "    print(f\"Es pull request: {'Sí' if 'pull_request' in issue else 'No'}\")\n",
    "    print(\"\\nDescripción:\")\n",
    "    print(issue.get('body') if issue.get('body') else \"(Sin descripción)\")\n",
    "    print(f\"{'='*80}\\n\")"
   ]
  },
  {
   "cell_type": "code",
   "execution_count": 20,
   "id": "83d87801-9ba2-4e0a-9444-bc9e82a1a065",
   "metadata": {},
   "outputs": [
    {
     "name": "stdin",
     "output_type": "stream",
     "text": [
      "Ingrese el propietario del repositorio (owner):  lucasromerodb\n",
      "Ingrese el nombre del repositorio (repo):  impuestito-extension\n"
     ]
    },
    {
     "name": "stdout",
     "output_type": "stream",
     "text": [
      "================================================================================\n",
      "Issue #5: Visual reference for warning and sad face icons\n",
      "Estado: open\n",
      "URL: https://github.com/lucasromerodb/impuestito-extension/issues/5\n",
      "Usuario: lucasromerodb\n",
      "Etiquetas: ['enhancement']\n",
      "Asignado a: Nadie\n",
      "Participantes: 0 comentario(s)\n",
      "Fecha de creación: 2022-01-18T00:16:09Z\n",
      "Última actualización: 2022-01-18T00:16:25Z\n",
      "Cerrado en: None\n",
      "Milestone: Ninguno\n",
      "Es pull request: No\n",
      "\n",
      "Descripción:\n",
      "(Sin descripción)\n",
      "================================================================================\n",
      "\n",
      "================================================================================\n",
      "Issue #4: Support for PS Turkey\n",
      "Estado: open\n",
      "URL: https://github.com/lucasromerodb/impuestito-extension/issues/4\n",
      "Usuario: lucasromerodb\n",
      "Etiquetas: ['enhancement']\n",
      "Asignado a: Nadie\n",
      "Participantes: 0 comentario(s)\n",
      "Fecha de creación: 2022-01-17T21:17:43Z\n",
      "Última actualización: 2022-01-17T21:18:06Z\n",
      "Cerrado en: None\n",
      "Milestone: Ninguno\n",
      "Es pull request: No\n",
      "\n",
      "Descripción:\n",
      "(Sin descripción)\n",
      "================================================================================\n",
      "\n"
     ]
    }
   ],
   "source": [
    "    #owner = \"giosicolo\"\n",
    "    #repo = \"api-backend-ecokit\"\n",
    "\n",
    "    #Por parametro\n",
    "    owner = input(\"Ingrese el propietario del repositorio (owner): \")\n",
    "    repo = input(\"Ingrese el nombre del repositorio (repo): \")\n",
    "\n",
    "    issues = getAllIssues(owner, repo, state=\"open\")\n",
    "    if issues:\n",
    "        for issue in issues:\n",
    "            if \"pull_request\" not in issue:\n",
    "                printIssue(issue)\n",
    "\n",
    "    "
   ]
  },
  {
   "cell_type": "code",
   "execution_count": null,
   "id": "c9040476-9d5f-4d36-bd8b-bfefb1230360",
   "metadata": {},
   "outputs": [],
   "source": []
  }
 ],
 "metadata": {
  "kernelspec": {
   "display_name": "Python 3 (ipykernel)",
   "language": "python",
   "name": "python3"
  },
  "language_info": {
   "codemirror_mode": {
    "name": "ipython",
    "version": 3
   },
   "file_extension": ".py",
   "mimetype": "text/x-python",
   "name": "python",
   "nbconvert_exporter": "python",
   "pygments_lexer": "ipython3",
   "version": "3.13.5"
  }
 },
 "nbformat": 4,
 "nbformat_minor": 5
}
