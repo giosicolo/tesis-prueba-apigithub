{
 "cells": [
  {
   "cell_type": "code",
   "execution_count": 1,
   "id": "b241d031-5f3b-4515-b673-3dadb8947817",
   "metadata": {},
   "outputs": [],
   "source": [
    "import json\n",
    "from openai import OpenAI"
   ]
  },
  {
   "cell_type": "code",
   "execution_count": null,
   "id": "84e16422-0047-441d-9de4-d4f5eb038284",
   "metadata": {},
   "outputs": [],
   "source": [
    "client = OpenAI()\n",
    "\n",
    "def generar_historias(json_input_file, json_output_file, prompt_base):\n",
    "    # Cargar el JSON\n",
    "    with open(json_input_file, \"r\", encoding=\"utf-8\") as f:\n",
    "        issues = json.load(f)\n",
    "\n",
    "    for issue in issues:\n",
    "        title = issue.get(\"title\", \"\")\n",
    "        body = issue.get(\"body\", \"\")\n",
    "        state = issue.get(\"state\", \"\")\n",
    "        author = issue.get(\"user\", \"\")\n",
    "        created = issue.get(\"created_at\", \"\")\n",
    "        issue_number = issue.get(\"number\", \"\")\n",
    "\n",
    "        # Armar contexto\n",
    "        context_lines = []\n",
    "        context_lines.append(f\"Issue #{issue_number} reportado por {author} (creado el {created}):\\n\")\n",
    "        context_lines.append(f\"Título: {title}\\n\")\n",
    "        context_lines.append(f\"Descripción:\\n{body}\\n\")\n",
    "        context_lines.append(f\"Estado: {state}\\n\")\n",
    "        context_lines.append(\"Comentarios:\")\n",
    "\n",
    "        # Agregar comentarios de la issue al contexto\n",
    "        comments = issue.get(\"all_comments\", [])\n",
    "        if comments:\n",
    "            for comment in comments:\n",
    "                c_author = comment.get(\"user\", {}).get(\"login\", \"\")\n",
    "                c_date = comment.get(\"created_at\", \"\")\n",
    "                c_body = comment.get(\"body\", \"\").strip()\n",
    "                context_lines.append(f\"- {c_author} ({c_date}): {c_body}\")\n",
    "        else:\n",
    "            context_lines.append(\"- No hay comentarios.\")\n",
    "\n",
    "        # Agregar etiquetas de la issue al contexto\n",
    "        labels = issue.get(\"labels\", [])\n",
    "        if labels:\n",
    "            label_names = [label.get(\"name\", \"\") for label in labels]\n",
    "            context_lines.append(f\"Etiquetas: {', '.join(label_names)}\\n\")\n",
    "        else:\n",
    "            context_lines.append(\"Etiquetas: (ninguna)\\n\")\n",
    "\n",
    "        # Concatenar contexto + prompt base\n",
    "        full_prompt = \"\\n\".join(context_lines) + \"\\n\\n\" + prompt_base\n",
    "\n",
    "        print(f\"Generando historia de usuario para issue #{issue_number}...\")\n",
    "\n",
    "        # Llamar al LLM\n",
    "        completion = client.chat.completions.create(\n",
    "           model=\"gpt-4o\",\n",
    "            messages=[\n",
    "                {\"role\": \"system\", \"content\": \"Eres un experto en redacción de historias de usuario.\"},\n",
    "                {\"role\": \"user\", \"content\": full_prompt}\n",
    "            ],\n",
    "            temperature=0.2\n",
    "        )\n",
    "\n",
    "        respuesta = completion.choices[0].message.content.strip()\n",
    "\n",
    "        # Guardar en el issue\n",
    "        issue[\"historia_usuario\"] = respuesta\n",
    "\n",
    "    # Guardar JSON enriquecido\n",
    "    with open(json_output_file, \"w\", encoding=\"utf-8\") as f:\n",
    "        json.dump(issues, f, indent=2, ensure_ascii=False)\n",
    "\n",
    "    print(f\"Historias generadas y guardadas en '{json_output_file}'.\")\n",
    "\n"
   ]
  },
  {
   "cell_type": "code",
   "execution_count": null,
   "id": "a5ef592a-23d4-453e-b5be-58ad6561e889",
   "metadata": {},
   "outputs": [],
   "source": [
    "# Ejemplo de uso:\n",
    "prompt_base = \"Por favor, genera una historia de usuario detallada basada en este issue.\"\n",
    "generar_historias(\"issuesComments.json\", \"issues_con_historias.json\", prompt_base)"
   ]
  },
  {
   "cell_type": "code",
   "execution_count": null,
   "id": "0fc999c0-cdb1-4f61-a620-61f3d53ff5db",
   "metadata": {},
   "outputs": [],
   "source": []
  }
 ],
 "metadata": {
  "kernelspec": {
   "display_name": "Python 3 (ipykernel)",
   "language": "python",
   "name": "python3"
  },
  "language_info": {
   "codemirror_mode": {
    "name": "ipython",
    "version": 3
   },
   "file_extension": ".py",
   "mimetype": "text/x-python",
   "name": "python",
   "nbconvert_exporter": "python",
   "pygments_lexer": "ipython3",
   "version": "3.13.5"
  }
 },
 "nbformat": 4,
 "nbformat_minor": 5
}
